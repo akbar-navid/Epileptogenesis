{
 "metadata": {
  "language_info": {
   "codemirror_mode": {
    "name": "ipython",
    "version": 3
   },
   "file_extension": ".py",
   "mimetype": "text/x-python",
   "name": "python",
   "nbconvert_exporter": "python",
   "pygments_lexer": "ipython3",
   "version": "3.7.9-final"
  },
  "orig_nbformat": 2,
  "kernelspec": {
   "name": "python3",
   "display_name": "Python 3",
   "language": "python"
  }
 },
 "nbformat": 4,
 "nbformat_minor": 2,
 "cells": [
  {
   "source": [
    "# Statistical Tests for fMRI preprocessing paper\n",
    "\n",
    "This notebook performs a repeated measures anova on the data that is shown in the boxplots in the manuscript. These data are contained in three .csv files: Segmentation.csv, Modularity.csv, Mean_Strength.csv. \n"
   ],
   "cell_type": "markdown",
   "metadata": {}
  },
  {
   "cell_type": "code",
   "execution_count": 1,
   "metadata": {},
   "outputs": [],
   "source": [
    "from scipy.io import loadmat\n",
    "import numpy as np \n",
    "import pandas as pd \n",
    "\n",
    "from statsmodels.stats.anova import AnovaRM\n"
   ]
  },
  {
   "cell_type": "code",
   "execution_count": 20,
   "metadata": {},
   "outputs": [
    {
     "output_type": "stream",
     "name": "stdout",
     "text": [
      "[1, 4, 6, 9, 10, 11, 13, 16, 17, 18, 19, 20, 22, 23, 24, 25, 28, 29, 31, 32, 33, 34, 36, 39, 40, 41, 43, 44]\n"
     ]
    }
   ],
   "source": [
    "subjs=[1,2,4,*range(6,12),*range(13,26),27,28,29,*range(31,37),*range(39,42),43,44]\n",
    "remove=[2,5,6,11,12,18,23,30] #manual removal of outliers, these are CONN IDs which correspond to the position of the subject in subjs\n",
    "new_inds={*range(36)}.difference({num-1 for num in remove})\n",
    "subset_subjs=[subjs[ind] for ind in new_inds]"
   ]
  },
  {
   "cell_type": "code",
   "execution_count": null,
   "metadata": {},
   "outputs": [],
   "source": [
    "# TODO \n",
    "#add post hoc tests"
   ]
  },
  {
   "cell_type": "code",
   "execution_count": 2,
   "metadata": {},
   "outputs": [],
   "source": [
    "def print_mean_std(df,class_1,class_2,output):\n",
    "    header_1=list(class_1.keys())[0]\n",
    "    header_2=list(class_2.keys())[0]\n",
    "    print(f'{output} across {header_1} and {header_2}')\n",
    "    for it_1 in list(class_1.values())[0]:\n",
    "        for it_2 in list(class_2.values())[0]:\n",
    "            print_mean=df.loc[df[header_1]==it_1].loc[df[header_2]==it_2][output].mean()\n",
    "            print_std=df.loc[df[header_1]==it_1].loc[df[header_2]==it_2][output].std()\n",
    "            print(f'For {it_1} and {it_2} the mean is {print_mean:.3f} and the std is {print_std:.3f}')\n",
    "\n",
    "\n"
   ]
  },
  {
   "cell_type": "code",
   "execution_count": 3,
   "metadata": {},
   "outputs": [
    {
     "output_type": "execute_result",
     "data": {
      "text/plain": [
       "   Subject Pipeline Tissue  Lesion Overlap  Lesion Fraction  \\\n",
       "0        1  Default    CSF          103521         0.081483   \n",
       "1        2  Default    CSF           29617         0.032380   \n",
       "2        4  Default    CSF           17478         0.014303   \n",
       "3        6  Default    CSF           25468         0.021833   \n",
       "4        7  Default    CSF             620         0.000478   \n",
       "\n",
       "   Intersection Overlap  Intersection No Lesion Overlap  \n",
       "0              0.959010                        0.956535  \n",
       "1              0.970924                        0.970166  \n",
       "2              0.969307                        0.969372  \n",
       "3              0.958084                        0.957977  \n",
       "4              0.958721                        0.958702  "
      ],
      "text/html": "<div>\n<style scoped>\n    .dataframe tbody tr th:only-of-type {\n        vertical-align: middle;\n    }\n\n    .dataframe tbody tr th {\n        vertical-align: top;\n    }\n\n    .dataframe thead th {\n        text-align: right;\n    }\n</style>\n<table border=\"1\" class=\"dataframe\">\n  <thead>\n    <tr style=\"text-align: right;\">\n      <th></th>\n      <th>Subject</th>\n      <th>Pipeline</th>\n      <th>Tissue</th>\n      <th>Lesion Overlap</th>\n      <th>Lesion Fraction</th>\n      <th>Intersection Overlap</th>\n      <th>Intersection No Lesion Overlap</th>\n    </tr>\n  </thead>\n  <tbody>\n    <tr>\n      <th>0</th>\n      <td>1</td>\n      <td>Default</td>\n      <td>CSF</td>\n      <td>103521</td>\n      <td>0.081483</td>\n      <td>0.959010</td>\n      <td>0.956535</td>\n    </tr>\n    <tr>\n      <th>1</th>\n      <td>2</td>\n      <td>Default</td>\n      <td>CSF</td>\n      <td>29617</td>\n      <td>0.032380</td>\n      <td>0.970924</td>\n      <td>0.970166</td>\n    </tr>\n    <tr>\n      <th>2</th>\n      <td>4</td>\n      <td>Default</td>\n      <td>CSF</td>\n      <td>17478</td>\n      <td>0.014303</td>\n      <td>0.969307</td>\n      <td>0.969372</td>\n    </tr>\n    <tr>\n      <th>3</th>\n      <td>6</td>\n      <td>Default</td>\n      <td>CSF</td>\n      <td>25468</td>\n      <td>0.021833</td>\n      <td>0.958084</td>\n      <td>0.957977</td>\n    </tr>\n    <tr>\n      <th>4</th>\n      <td>7</td>\n      <td>Default</td>\n      <td>CSF</td>\n      <td>620</td>\n      <td>0.000478</td>\n      <td>0.958721</td>\n      <td>0.958702</td>\n    </tr>\n  </tbody>\n</table>\n</div>"
     },
     "metadata": {},
     "execution_count": 3
    }
   ],
   "source": [
    "df_seg = pd.read_csv('Segmentation.csv',index_col=0)\n",
    "df_seg.head()\n"
   ]
  },
  {
   "cell_type": "code",
   "execution_count": 8,
   "metadata": {},
   "outputs": [
    {
     "output_type": "stream",
     "name": "stdout",
     "text": [
      "CSF\n                Anova\n======================================\n         F Value Num DF  Den DF Pr > F\n--------------------------------------\nPipeline 19.5258 2.0000 70.0000 0.0000\n======================================\n\nWM\n                Anova\n======================================\n         F Value Num DF  Den DF Pr > F\n--------------------------------------\nPipeline 13.6640 2.0000 70.0000 0.0000\n======================================\n\nGM\n                Anova\n======================================\n         F Value Num DF  Den DF Pr > F\n--------------------------------------\nPipeline 14.4469 2.0000 70.0000 0.0000\n======================================\n\nLesion Overlap across Tissue and Pipeline\nFor WM and Default the mean is 38992.000 and the std is 49979.676\nFor WM and Tpm the mean is 24893.278 and the std is 34383.576\nFor WM and Fmriprep the mean is 40779.750 and the std is 48325.425\nFor GM and Default the mean is 60043.750 and the std is 69259.082\nFor GM and Tpm the mean is 38052.500 and the std is 46299.587\nFor GM and Fmriprep the mean is 47882.944 and the std is 55845.347\nFor CSF and Default the mean is 45547.250 and the std is 56876.057\nFor CSF and Tpm the mean is 23000.750 and the std is 38392.689\nFor CSF and Fmriprep the mean is 1587.028 and the std is 2762.559\n"
     ]
    }
   ],
   "source": [
    "\n",
    "print('CSF')\n",
    "print(AnovaRM(df_seg.loc[df_seg['Tissue']=='CSF'],depvar='Lesion Overlap',subject='Subject',within=['Pipeline']).fit()) #run seperate tests to match manuscript, could run this as a two way\n",
    "\n",
    "print('WM')\n",
    "print(AnovaRM(df_seg.loc[df_seg['Tissue']=='WM'],depvar='Lesion Overlap',subject='Subject',within=['Pipeline']).fit())\n",
    "\n",
    "print('GM')\n",
    "print(AnovaRM(df_seg.loc[df_seg['Tissue']=='GM'],depvar='Lesion Overlap',subject='Subject',within=['Pipeline']).fit())\n",
    "\n",
    "print_mean_std(df_seg,{'Tissue':['WM','GM','CSF']},{'Pipeline':['Default','Tpm','Fmriprep']},'Lesion Overlap')"
   ]
  },
  {
   "cell_type": "code",
   "execution_count": 35,
   "metadata": {},
   "outputs": [
    {
     "output_type": "stream",
     "name": "stdout",
     "text": [
      "WM\n                Anova\n======================================\n         F Value Num DF  Den DF Pr > F\n--------------------------------------\nPipeline 14.6704 2.0000 70.0000 0.0000\n======================================\n\nGM\n                Anova\n======================================\n         F Value Num DF  Den DF Pr > F\n--------------------------------------\nPipeline 15.2542 2.0000 70.0000 0.0000\n======================================\n\nCSF\n                Anova\n======================================\n         F Value Num DF  Den DF Pr > F\n--------------------------------------\nPipeline  6.7349 2.0000 70.0000 0.0021\n======================================\n\nLesion Fraction across Tissue and Pipeline\nFor WM and Default the mean is 0.036 and the std is 0.042\nFor WM and Tpm the mean is 0.024 and the std is 0.029\nFor WM and Fmriprep the mean is 0.035 and the std is 0.041\nFor GM and Default the mean is 0.038 and the std is 0.042\nFor GM and Tpm the mean is 0.025 and the std is 0.029\nFor GM and Fmriprep the mean is 0.031 and the std is 0.037\nFor CSF and Default the mean is 0.034 and the std is 0.040\nFor CSF and Tpm the mean is 0.018 and the std is 0.025\nFor CSF and Fmriprep the mean is 0.030 and the std is 0.052\n"
     ]
    }
   ],
   "source": [
    "print('WM')\n",
    "print(AnovaRM(df_seg.loc[df_seg['Tissue']=='WM'],depvar='Lesion Fraction',subject='Subject',within=['Pipeline']).fit())\n",
    "\n",
    "print('GM')\n",
    "print(AnovaRM(df_seg.loc[df_seg['Tissue']=='GM'],depvar='Lesion Fraction',subject='Subject',within=['Pipeline']).fit())\n",
    "\n",
    "print('CSF')\n",
    "print(AnovaRM(df_seg.loc[df_seg['Tissue']=='CSF'],depvar='Lesion Fraction',subject='Subject',within=['Pipeline']).fit()) \n",
    "\n",
    "print_mean_std(df_seg,{'Tissue':['WM','GM','CSF']},{'Pipeline':['Default','Tpm','Fmriprep']},'Lesion Fraction')"
   ]
  },
  {
   "cell_type": "code",
   "execution_count": 36,
   "metadata": {},
   "outputs": [
    {
     "output_type": "stream",
     "name": "stdout",
     "text": [
      "WM\n                Anova\n======================================\n         F Value Num DF  Den DF Pr > F\n--------------------------------------\nPipeline 85.6049 2.0000 70.0000 0.0000\n======================================\n\nGM\n                Anova\n======================================\n         F Value Num DF  Den DF Pr > F\n--------------------------------------\nPipeline  0.0473 2.0000 70.0000 0.9539\n======================================\n\nCSF\n                 Anova\n========================================\n          F Value  Num DF  Den DF Pr > F\n----------------------------------------\nPipeline 2383.0164 2.0000 70.0000 0.0000\n========================================\n\nIntersection No Lesion Overlap across Tissue and Pipeline\nFor WM and Default the mean is 0.186 and the std is 0.032\nFor WM and Tpm the mean is 0.188 and the std is 0.033\nFor WM and Fmriprep the mean is 0.299 and the std is 0.052\nFor GM and Default the mean is 0.171 and the std is 0.030\nFor GM and Tpm the mean is 0.169 and the std is 0.024\nFor GM and Fmriprep the mean is 0.171 and the std is 0.047\nFor CSF and Default the mean is 0.960 and the std is 0.016\nFor CSF and Tpm the mean is 0.960 and the std is 0.015\nFor CSF and Fmriprep the mean is 0.121 and the std is 0.096\n"
     ]
    }
   ],
   "source": [
    "\n",
    "print('WM')\n",
    "print(AnovaRM(df_seg.loc[df_seg['Tissue']=='WM'],depvar='Intersection No Lesion Overlap',subject='Subject',within=['Pipeline']).fit())\n",
    "\n",
    "print('GM')\n",
    "print(AnovaRM(df_seg.loc[df_seg['Tissue']=='GM'],depvar='Intersection No Lesion Overlap',subject='Subject',within=['Pipeline']).fit())\n",
    "\n",
    "print('CSF')\n",
    "print(AnovaRM(df_seg.loc[df_seg['Tissue']=='CSF'],depvar='Intersection No Lesion Overlap',subject='Subject',within=['Pipeline']).fit()) \n",
    "\n",
    "print_mean_std(df_seg,{'Tissue':['WM','GM','CSF']},{'Pipeline':['Default','Tpm','Fmriprep']},'Intersection No Lesion Overlap')"
   ]
  },
  {
   "cell_type": "code",
   "execution_count": 31,
   "metadata": {},
   "outputs": [
    {
     "output_type": "stream",
     "name": "stdout",
     "text": [
      "Number of subjects in df_seg is 36\nNumber of subjects in df_seg_sub is 28\n"
     ]
    }
   ],
   "source": [
    "# redo tests with removal of outliers\n",
    "\n",
    "df_seg_sub = df_seg.loc[[ind for ind in range(len(df_seg)) if df_seg['Subject'][ind] in subset_subjs]]\n",
    "print(f'Number of subjects in df_seg is {len(set(df_seg[\"Subject\"]))}')\n",
    "print(f'Number of subjects in df_seg_sub is {len(set(df_seg_sub[\"Subject\"]))}')"
   ]
  },
  {
   "cell_type": "code",
   "execution_count": 32,
   "metadata": {},
   "outputs": [
    {
     "output_type": "stream",
     "name": "stdout",
     "text": [
      "CSF\n                Anova\n======================================\n         F Value Num DF  Den DF Pr > F\n--------------------------------------\nPipeline 14.9400 2.0000 54.0000 0.0000\n======================================\n\nWM\n                Anova\n======================================\n         F Value Num DF  Den DF Pr > F\n--------------------------------------\nPipeline  9.9912 2.0000 54.0000 0.0002\n======================================\n\nGM\n                Anova\n======================================\n         F Value Num DF  Den DF Pr > F\n--------------------------------------\nPipeline 11.3662 2.0000 54.0000 0.0001\n======================================\n\nLesion Overlap across Tissue and Pipeline\nFor WM and Default the mean is 40690.464 and the std is 51771.695\nFor WM and Tpm the mean is 26191.179 and the std is 36307.406\nFor WM and Fmriprep the mean is 40835.786 and the std is 46763.584\nFor GM and Default the mean is 59840.179 and the std is 64645.876\nFor GM and Tpm the mean is 39341.643 and the std is 47332.781\nFor GM and Fmriprep the mean is 47942.179 and the std is 54564.349\nFor CSF and Default the mean is 47989.250 and the std is 59625.200\nFor CSF and Tpm the mean is 24711.357 and the std is 42182.723\nFor CSF and Fmriprep the mean is 1467.607 and the std is 2434.476\n"
     ]
    }
   ],
   "source": [
    "print('CSF')\n",
    "print(AnovaRM(df_seg_sub.loc[df_seg_sub['Tissue']=='CSF'],depvar='Lesion Overlap',subject='Subject',within=['Pipeline']).fit()) #run seperate tests to match manuscript, could run this as a two way\n",
    "\n",
    "print('WM')\n",
    "print(AnovaRM(df_seg_sub.loc[df_seg_sub['Tissue']=='WM'],depvar='Lesion Overlap',subject='Subject',within=['Pipeline']).fit())\n",
    "\n",
    "print('GM')\n",
    "print(AnovaRM(df_seg_sub.loc[df_seg_sub['Tissue']=='GM'],depvar='Lesion Overlap',subject='Subject',within=['Pipeline']).fit())\n",
    "\n",
    "print_mean_std(df_seg_sub,{'Tissue':['WM','GM','CSF']},{'Pipeline':['Default','Tpm','Fmriprep']},'Lesion Overlap')"
   ]
  },
  {
   "cell_type": "code",
   "execution_count": 33,
   "metadata": {},
   "outputs": [
    {
     "output_type": "stream",
     "name": "stdout",
     "text": [
      "WM\n                Anova\n======================================\n         F Value Num DF  Den DF Pr > F\n--------------------------------------\nPipeline 10.8946 2.0000 54.0000 0.0001\n======================================\n\nGM\n                Anova\n======================================\n         F Value Num DF  Den DF Pr > F\n--------------------------------------\nPipeline 11.2603 2.0000 54.0000 0.0001\n======================================\n\nCSF\n                Anova\n======================================\n         F Value Num DF  Den DF Pr > F\n--------------------------------------\nPipeline  5.3273 2.0000 54.0000 0.0077\n======================================\n\nLesion Fraction across Tissue and Pipeline\nFor WM and Default the mean is 0.037 and the std is 0.042\nFor WM and Tpm the mean is 0.025 and the std is 0.030\nFor WM and Fmriprep the mean is 0.035 and the std is 0.039\nFor GM and Default the mean is 0.038 and the std is 0.041\nFor GM and Tpm the mean is 0.026 and the std is 0.030\nFor GM and Fmriprep the mean is 0.031 and the std is 0.036\nFor CSF and Default the mean is 0.035 and the std is 0.039\nFor CSF and Tpm the mean is 0.018 and the std is 0.027\nFor CSF and Fmriprep the mean is 0.029 and the std is 0.050\n"
     ]
    }
   ],
   "source": [
    "print('WM')\n",
    "print(AnovaRM(df_seg_sub.loc[df_seg_sub['Tissue']=='WM'],depvar='Lesion Fraction',subject='Subject',within=['Pipeline']).fit())\n",
    "\n",
    "print('GM')\n",
    "print(AnovaRM(df_seg_sub.loc[df_seg_sub['Tissue']=='GM'],depvar='Lesion Fraction',subject='Subject',within=['Pipeline']).fit())\n",
    "\n",
    "print('CSF')\n",
    "print(AnovaRM(df_seg_sub.loc[df_seg_sub['Tissue']=='CSF'],depvar='Lesion Fraction',subject='Subject',within=['Pipeline']).fit()) \n",
    "\n",
    "print_mean_std(df_seg_sub,{'Tissue':['WM','GM','CSF']},{'Pipeline':['Default','Tpm','Fmriprep']},'Lesion Fraction')"
   ]
  },
  {
   "cell_type": "code",
   "execution_count": 34,
   "metadata": {},
   "outputs": [
    {
     "output_type": "stream",
     "name": "stdout",
     "text": [
      "WM\n                Anova\n======================================\n         F Value Num DF  Den DF Pr > F\n--------------------------------------\nPipeline 61.2423 2.0000 54.0000 0.0000\n======================================\n\nGM\n                Anova\n======================================\n         F Value Num DF  Den DF Pr > F\n--------------------------------------\nPipeline  0.0680 2.0000 54.0000 0.9344\n======================================\n\nCSF\n                 Anova\n========================================\n          F Value  Num DF  Den DF Pr > F\n----------------------------------------\nPipeline 1741.4310 2.0000 54.0000 0.0000\n========================================\n\nIntersection No Lesion Overlap across Tissue and Pipeline\nFor WM and Default the mean is 0.186 and the std is 0.034\nFor WM and Tpm the mean is 0.183 and the std is 0.026\nFor WM and Fmriprep the mean is 0.294 and the std is 0.056\nFor GM and Default the mean is 0.168 and the std is 0.027\nFor GM and Tpm the mean is 0.166 and the std is 0.023\nFor GM and Fmriprep the mean is 0.166 and the std is 0.041\nFor CSF and Default the mean is 0.959 and the std is 0.018\nFor CSF and Tpm the mean is 0.958 and the std is 0.017\nFor CSF and Fmriprep the mean is 0.125 and the std is 0.097\n"
     ]
    }
   ],
   "source": [
    "print('WM')\n",
    "print(AnovaRM(df_seg_sub.loc[df_seg_sub['Tissue']=='WM'],depvar='Intersection No Lesion Overlap',subject='Subject',within=['Pipeline']).fit())\n",
    "\n",
    "print('GM')\n",
    "print(AnovaRM(df_seg_sub.loc[df_seg_sub['Tissue']=='GM'],depvar='Intersection No Lesion Overlap',subject='Subject',within=['Pipeline']).fit())\n",
    "\n",
    "print('CSF')\n",
    "print(AnovaRM(df_seg_sub.loc[df_seg_sub['Tissue']=='CSF'],depvar='Intersection No Lesion Overlap',subject='Subject',within=['Pipeline']).fit()) \n",
    "\n",
    "print_mean_std(df_seg_sub,{'Tissue':['WM','GM','CSF']},{'Pipeline':['Default','Tpm','Fmriprep']},'Intersection No Lesion Overlap')"
   ]
  },
  {
   "cell_type": "code",
   "execution_count": 4,
   "metadata": {},
   "outputs": [
    {
     "output_type": "execute_result",
     "data": {
      "text/plain": [
       "   Subject Pipeline Atlas  Modularity\n",
       "0        1  Default   AAL    0.386872\n",
       "1        2  Default   AAL    0.352606\n",
       "2        4  Default   AAL    0.328717\n",
       "3        6  Default   AAL    0.376981\n",
       "4        7  Default   AAL    0.449123"
      ],
      "text/html": "<div>\n<style scoped>\n    .dataframe tbody tr th:only-of-type {\n        vertical-align: middle;\n    }\n\n    .dataframe tbody tr th {\n        vertical-align: top;\n    }\n\n    .dataframe thead th {\n        text-align: right;\n    }\n</style>\n<table border=\"1\" class=\"dataframe\">\n  <thead>\n    <tr style=\"text-align: right;\">\n      <th></th>\n      <th>Subject</th>\n      <th>Pipeline</th>\n      <th>Atlas</th>\n      <th>Modularity</th>\n    </tr>\n  </thead>\n  <tbody>\n    <tr>\n      <th>0</th>\n      <td>1</td>\n      <td>Default</td>\n      <td>AAL</td>\n      <td>0.386872</td>\n    </tr>\n    <tr>\n      <th>1</th>\n      <td>2</td>\n      <td>Default</td>\n      <td>AAL</td>\n      <td>0.352606</td>\n    </tr>\n    <tr>\n      <th>2</th>\n      <td>4</td>\n      <td>Default</td>\n      <td>AAL</td>\n      <td>0.328717</td>\n    </tr>\n    <tr>\n      <th>3</th>\n      <td>6</td>\n      <td>Default</td>\n      <td>AAL</td>\n      <td>0.376981</td>\n    </tr>\n    <tr>\n      <th>4</th>\n      <td>7</td>\n      <td>Default</td>\n      <td>AAL</td>\n      <td>0.449123</td>\n    </tr>\n  </tbody>\n</table>\n</div>"
     },
     "metadata": {},
     "execution_count": 4
    }
   ],
   "source": [
    "df_mod = pd.read_csv('Modularity.csv',index_col=0)\n",
    "df_mod.head()"
   ]
  },
  {
   "cell_type": "code",
   "execution_count": 52,
   "metadata": {},
   "outputs": [
    {
     "output_type": "stream",
     "name": "stdout",
     "text": [
      "                Anova\n======================================\n         F Value Num DF  Den DF Pr > F\n--------------------------------------\nPipeline 10.5605 2.0000 70.0000 0.0001\n======================================\n\n                Anova\n======================================\n         F Value Num DF  Den DF Pr > F\n--------------------------------------\nPipeline  1.4828 2.0000 70.0000 0.2340\n======================================\n\nModularity across Atlas and Pipeline\nFor AAL and Default the mean is 0.37 and the std is 0.07\nFor AAL and Tpm the mean is 0.37 and the std is 0.07\nFor AAL and Fmriprep the mean is 0.33 and the std is 0.07\nFor SCH and Default the mean is 0.34 and the std is 0.08\nFor SCH and Tpm the mean is 0.34 and the std is 0.08\nFor SCH and Fmriprep the mean is 0.32 and the std is 0.10\n"
     ]
    }
   ],
   "source": [
    "print(AnovaRM(df_mod.loc[df_mod['Atlas']=='AAL'],depvar='Modularity',subject='Subject',within=['Pipeline']).fit())\n",
    "\n",
    "print(AnovaRM(df_mod.loc[df_mod['Atlas']=='SCH'],depvar='Modularity',subject='Subject',within=['Pipeline']).fit())\n",
    "print_mean_std(df_mod,{'Atlas':['AAL','SCH']},{'Pipeline':['Default','Tpm','Fmriprep']},'Modularity')"
   ]
  },
  {
   "cell_type": "code",
   "execution_count": 5,
   "metadata": {},
   "outputs": [
    {
     "output_type": "execute_result",
     "data": {
      "text/plain": [
       "   Subject Pipeline Atlas  Mean Ov Str  Mean No Ov Str\n",
       "0        1  Default   AAL     0.002957        0.081233\n",
       "1        2  Default   AAL     0.004769        0.082893\n",
       "2        4  Default   AAL     0.000199        0.124326\n",
       "3        6  Default   AAL    -0.000546       -0.049359\n",
       "4        7  Default   AAL    -0.000017        0.060569"
      ],
      "text/html": "<div>\n<style scoped>\n    .dataframe tbody tr th:only-of-type {\n        vertical-align: middle;\n    }\n\n    .dataframe tbody tr th {\n        vertical-align: top;\n    }\n\n    .dataframe thead th {\n        text-align: right;\n    }\n</style>\n<table border=\"1\" class=\"dataframe\">\n  <thead>\n    <tr style=\"text-align: right;\">\n      <th></th>\n      <th>Subject</th>\n      <th>Pipeline</th>\n      <th>Atlas</th>\n      <th>Mean Ov Str</th>\n      <th>Mean No Ov Str</th>\n    </tr>\n  </thead>\n  <tbody>\n    <tr>\n      <th>0</th>\n      <td>1</td>\n      <td>Default</td>\n      <td>AAL</td>\n      <td>0.002957</td>\n      <td>0.081233</td>\n    </tr>\n    <tr>\n      <th>1</th>\n      <td>2</td>\n      <td>Default</td>\n      <td>AAL</td>\n      <td>0.004769</td>\n      <td>0.082893</td>\n    </tr>\n    <tr>\n      <th>2</th>\n      <td>4</td>\n      <td>Default</td>\n      <td>AAL</td>\n      <td>0.000199</td>\n      <td>0.124326</td>\n    </tr>\n    <tr>\n      <th>3</th>\n      <td>6</td>\n      <td>Default</td>\n      <td>AAL</td>\n      <td>-0.000546</td>\n      <td>-0.049359</td>\n    </tr>\n    <tr>\n      <th>4</th>\n      <td>7</td>\n      <td>Default</td>\n      <td>AAL</td>\n      <td>-0.000017</td>\n      <td>0.060569</td>\n    </tr>\n  </tbody>\n</table>\n</div>"
     },
     "metadata": {},
     "execution_count": 5
    }
   ],
   "source": [
    "df_str = pd.read_csv('Mean_Strength.csv',index_col=0)\n",
    "df_str.head()"
   ]
  },
  {
   "cell_type": "code",
   "execution_count": 53,
   "metadata": {},
   "outputs": [
    {
     "output_type": "stream",
     "name": "stdout",
     "text": [
      "                Anova\n======================================\n         F Value Num DF  Den DF Pr > F\n--------------------------------------\nPipeline  0.8620 2.0000 70.0000 0.4268\n======================================\n\n                Anova\n======================================\n         F Value Num DF  Den DF Pr > F\n--------------------------------------\nPipeline  0.2422 2.0000 70.0000 0.7856\n======================================\n\nMean Ov Str across Atlas and Pipeline\nFor AAL and Default the mean is 0.00 and the std is 0.00\nFor AAL and Tpm the mean is 0.00 and the std is 0.00\nFor AAL and Fmriprep the mean is 0.00 and the std is 0.00\nFor SCH and Default the mean is 0.00 and the std is 0.00\nFor SCH and Tpm the mean is 0.00 and the std is 0.00\nFor SCH and Fmriprep the mean is 0.00 and the std is 0.00\n"
     ]
    }
   ],
   "source": [
    "print(AnovaRM(df_str.loc[df_str['Atlas']=='SCH'],depvar='Mean Ov Str',subject='Subject',within=['Pipeline']).fit())\n",
    "\n",
    "print(AnovaRM(df_str.loc[df_str['Atlas']=='AAL'],depvar='Mean Ov Str',subject='Subject',within=['Pipeline']).fit())\n",
    "print_mean_std(df_str,{'Atlas':['AAL','SCH']},{'Pipeline':['Default','Tpm','Fmriprep']},'Mean Ov Str')"
   ]
  },
  {
   "cell_type": "code",
   "execution_count": 54,
   "metadata": {},
   "outputs": [
    {
     "output_type": "stream",
     "name": "stdout",
     "text": [
      "                Anova\n======================================\n         F Value Num DF  Den DF Pr > F\n--------------------------------------\nPipeline  3.2786 2.0000 70.0000 0.0435\n======================================\n\n                Anova\n======================================\n         F Value Num DF  Den DF Pr > F\n--------------------------------------\nPipeline  4.9648 2.0000 70.0000 0.0096\n======================================\n\nMean No Ov Str across Atlas and Pipeline\nFor AAL and Default the mean is 0.05 and the std is 0.04\nFor AAL and Tpm the mean is 0.05 and the std is 0.04\nFor AAL and Fmriprep the mean is 0.09 and the std is 0.11\nFor SCH and Default the mean is 0.02 and the std is 0.04\nFor SCH and Tpm the mean is 0.02 and the std is 0.04\nFor SCH and Fmriprep the mean is 0.04 and the std is 0.07\n"
     ]
    }
   ],
   "source": [
    "print(AnovaRM(df_str.loc[df_str['Atlas']=='SCH'],depvar='Mean No Ov Str',subject='Subject',within=['Pipeline']).fit())\n",
    "\n",
    "print(AnovaRM(df_str.loc[df_str['Atlas']=='AAL'],depvar='Mean No Ov Str',subject='Subject',within=['Pipeline']).fit())\n",
    "print_mean_std(df_str,{'Atlas':['AAL','SCH']},{'Pipeline':['Default','Tpm','Fmriprep']},'Mean No Ov Str')"
   ]
  },
  {
   "cell_type": "code",
   "execution_count": 6,
   "metadata": {},
   "outputs": [
    {
     "output_type": "execute_result",
     "data": {
      "text/plain": [
       "   Subject Pipeline  Lesion Var  Rel Var CSF  Rel Var GM  Rel Var WM  \\\n",
       "0        1  Default    0.001905     0.020813    1.336829    0.381818   \n",
       "1        2  Default    0.000802     0.009592    1.768672    0.283971   \n",
       "2        4  Default    0.002672     0.015222    1.753608    0.663410   \n",
       "3        6  Default    0.007510     0.114544    4.240808    0.877394   \n",
       "4        7  Default    0.210434     0.395258   73.808262   10.405097   \n",
       "\n",
       "   Rel Var Mean  Rel Var AAL  Rel Var SCH  \n",
       "0      0.058351     0.030954     0.071011  \n",
       "1      0.027691     0.045219     0.059368  \n",
       "2      0.044266     0.080141     0.151632  \n",
       "3      0.296859     0.104457     0.207845  \n",
       "4      1.136516     0.660114     2.778838  "
      ],
      "text/html": "<div>\n<style scoped>\n    .dataframe tbody tr th:only-of-type {\n        vertical-align: middle;\n    }\n\n    .dataframe tbody tr th {\n        vertical-align: top;\n    }\n\n    .dataframe thead th {\n        text-align: right;\n    }\n</style>\n<table border=\"1\" class=\"dataframe\">\n  <thead>\n    <tr style=\"text-align: right;\">\n      <th></th>\n      <th>Subject</th>\n      <th>Pipeline</th>\n      <th>Lesion Var</th>\n      <th>Rel Var CSF</th>\n      <th>Rel Var GM</th>\n      <th>Rel Var WM</th>\n      <th>Rel Var Mean</th>\n      <th>Rel Var AAL</th>\n      <th>Rel Var SCH</th>\n    </tr>\n  </thead>\n  <tbody>\n    <tr>\n      <th>0</th>\n      <td>1</td>\n      <td>Default</td>\n      <td>0.001905</td>\n      <td>0.020813</td>\n      <td>1.336829</td>\n      <td>0.381818</td>\n      <td>0.058351</td>\n      <td>0.030954</td>\n      <td>0.071011</td>\n    </tr>\n    <tr>\n      <th>1</th>\n      <td>2</td>\n      <td>Default</td>\n      <td>0.000802</td>\n      <td>0.009592</td>\n      <td>1.768672</td>\n      <td>0.283971</td>\n      <td>0.027691</td>\n      <td>0.045219</td>\n      <td>0.059368</td>\n    </tr>\n    <tr>\n      <th>2</th>\n      <td>4</td>\n      <td>Default</td>\n      <td>0.002672</td>\n      <td>0.015222</td>\n      <td>1.753608</td>\n      <td>0.663410</td>\n      <td>0.044266</td>\n      <td>0.080141</td>\n      <td>0.151632</td>\n    </tr>\n    <tr>\n      <th>3</th>\n      <td>6</td>\n      <td>Default</td>\n      <td>0.007510</td>\n      <td>0.114544</td>\n      <td>4.240808</td>\n      <td>0.877394</td>\n      <td>0.296859</td>\n      <td>0.104457</td>\n      <td>0.207845</td>\n    </tr>\n    <tr>\n      <th>4</th>\n      <td>7</td>\n      <td>Default</td>\n      <td>0.210434</td>\n      <td>0.395258</td>\n      <td>73.808262</td>\n      <td>10.405097</td>\n      <td>1.136516</td>\n      <td>0.660114</td>\n      <td>2.778838</td>\n    </tr>\n  </tbody>\n</table>\n</div>"
     },
     "metadata": {},
     "execution_count": 6
    }
   ],
   "source": [
    "df_ts = pd.read_csv('Time_Series.csv',index_col=0)\n",
    "df_ts.head()"
   ]
  },
  {
   "cell_type": "code",
   "execution_count": 6,
   "metadata": {},
   "outputs": [
    {
     "output_type": "stream",
     "name": "stdout",
     "text": [
      "Lesion\n                Anova\n======================================\n         F Value Num DF  Den DF Pr > F\n--------------------------------------\nPipeline  2.0669 2.0000 70.0000 0.1342\n======================================\n\nWM\n                Anova\n======================================\n         F Value Num DF  Den DF Pr > F\n--------------------------------------\nPipeline  2.0669 2.0000 70.0000 0.1342\n======================================\n\nGM\n                Anova\n======================================\n         F Value Num DF  Den DF Pr > F\n--------------------------------------\nPipeline  4.3971 2.0000 70.0000 0.0159\n======================================\n\nCSF\n                Anova\n======================================\n         F Value Num DF  Den DF Pr > F\n--------------------------------------\nPipeline 11.0665 2.0000 70.0000 0.0001\n======================================\n\nAAL\n                Anova\n======================================\n         F Value Num DF  Den DF Pr > F\n--------------------------------------\nPipeline  0.4996 2.0000 70.0000 0.6089\n======================================\n\nSCH\n                Anova\n======================================\n         F Value Num DF  Den DF Pr > F\n--------------------------------------\nPipeline  2.8924 2.0000 70.0000 0.0621\n======================================\n\nMean\n                Anova\n======================================\n         F Value Num DF  Den DF Pr > F\n--------------------------------------\nPipeline  9.0013 2.0000 70.0000 0.0003\n======================================\n\n"
     ]
    }
   ],
   "source": [
    "print('Lesion')\n",
    "print(AnovaRM(df_ts,depvar='Rel Var WM',subject='Subject',within=['Pipeline']).fit())\n",
    "\n",
    "print('WM')\n",
    "print(AnovaRM(df_ts,depvar='Rel Var WM',subject='Subject',within=['Pipeline']).fit())\n",
    "\n",
    "print('GM')\n",
    "print(AnovaRM(df_ts,depvar='Rel Var GM',subject='Subject',within=['Pipeline']).fit())\n",
    "\n",
    "print('CSF')\n",
    "print(AnovaRM(df_ts,depvar='Rel Var CSF',subject='Subject',within=['Pipeline']).fit())\n",
    "\n",
    "print('AAL')\n",
    "print(AnovaRM(df_ts,depvar='Rel Var AAL',subject='Subject',within=['Pipeline']).fit())\n",
    "\n",
    "print('SCH')\n",
    "print(AnovaRM(df_ts,depvar='Rel Var SCH',subject='Subject',within=['Pipeline']).fit())\n",
    "\n",
    "print('Mean')\n",
    "print(AnovaRM(df_ts,depvar='Rel Var Mean',subject='Subject',within=['Pipeline']).fit())"
   ]
  },
  {
   "cell_type": "code",
   "execution_count": null,
   "metadata": {},
   "outputs": [],
   "source": []
  }
 ]
}