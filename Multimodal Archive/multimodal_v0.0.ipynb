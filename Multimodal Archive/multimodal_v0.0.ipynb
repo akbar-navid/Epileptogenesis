{
 "cells": [
  {
   "cell_type": "markdown",
   "metadata": {},
   "source": [
    "# Initialize libraries"
   ]
  },
  {
   "cell_type": "code",
   "execution_count": 3,
   "metadata": {},
   "outputs": [],
   "source": [
    "import numpy as np\n",
    "%matplotlib inline\n",
    "import matplotlib.pyplot as plt \n",
    "from matplotlib.pyplot import imshow\n",
    "\n",
    "from sklearn import decomposition, linear_model,metrics\n",
    "from sklearn.decomposition import KernelPCA\n",
    "from sklearn.svm import SVC\n",
    "from sklearn.preprocessing import StandardScaler, LabelEncoder\n",
    "class_labels = LabelEncoder()\n",
    "from sklearn.model_selection import cross_val_score,GridSearchCV,StratifiedKFold,KFold,train_test_split\n",
    "from sklearn.pipeline import Pipeline, make_pipeline\n",
    "from sklearn.metrics import classification_report, confusion_matrix,mean_squared_error,r2_score\n",
    "from sklearn.metrics import auc, RocCurveDisplay, roc_curve, f1_score\n",
    "from sklearn.ensemble import RandomForestClassifier,AdaBoostClassifier,VotingClassifier\n",
    "from sklearn.discriminant_analysis import LinearDiscriminantAnalysis\n",
    "from sklearn.linear_model import LinearRegression, LogisticRegression\n",
    "from sklearn.feature_selection import RFE, SelectKBest, f_classif, chi2, mutual_info_classif\n",
    "from sklearn.manifold import TSNE\n",
    "from sklearn.naive_bayes import GaussianNB\n",
    "\n",
    "## Additional imports from DWI code\n",
    "import math\n",
    "from itertools import product\n",
    "from contextlib import redirect_stdout\n",
    "import pandas as pd\n",
    "import time\n",
    "import scipy\n",
    "from scipy import io, stats\n",
    "#from astropy.stats import jackknife_resampling, jackknife_stats, binom_conf_interval\n",
    "#import xgboost as xgb\n",
    "\n",
    "seed_value= 42\n",
    "import os\n",
    "os.environ['PYTHONHASHSEED']=str(seed_value)\n",
    "import random\n",
    "random.seed(seed_value)\n",
    "np.random.seed(seed_value)"
   ]
  },
  {
   "cell_type": "markdown",
   "metadata": {
    "tags": []
   },
   "source": [
    "# Load features"
   ]
  },
  {
   "cell_type": "code",
   "execution_count": 4,
   "metadata": {
    "scrolled": true,
    "tags": []
   },
   "outputs": [
    {
     "output_type": "stream",
     "name": "stdout",
     "text": [
      "fMRI Subject IDs\n0     3_13_0063\n1     3_13_0068\n2     3_16_0013\n3     3_16_0016\n4     3_16_0023\n5     3_16_0033\n6     3_16_0036\n7     3_17_0001\n8     3_17_0004\n9     3_17_0007\n10    3_17_0009\n11    3_17_0012\n12    3_17_0019\n13    3_17_0048\n14    3_19_0050\n15    3_21_0040\n16    3_21_0061\n17    3_26_0080\n18    3_26_0092\nName: Subject, dtype: object\nDWI Subject IDs\n0     3_13_0063\n1     3_13_0068\n2     3_16_0013\n3     3_16_0021\n4     3_16_0027\n5     3_16_0033\n6     3_16_0036\n7     3_16_0038\n8     3_17_0001\n9     3_17_0003\n10    3_17_0004\n11    3_17_0005\n12    3_17_0007\n13    3_17_0009\n14    3_17_0012\n15    3_17_0019\n16    3_17_0030\n17    3_17_0048\n18    3_21_0040\n19    3_21_0061\n20    3_24_0035\n21    3_26_0100\nName: Subject, dtype: object\nEEG Subject IDs\n0    3_17_0001\n1    3_17_0003\n2    3_17_0004\n3    3_17_0007\n4    3_17_0009\n5    3_17_0012\n6    3_17_0019\n7    3_17_0031\n8    3_17_0048\n9    3_21_0076\nName: Subject, dtype: object\n"
     ]
    }
   ],
   "source": [
    "processed_data_path=\"../../data/processed\"\n",
    "\n",
    "fmri_features=pd.read_csv(f\"{processed_data_path}/fMRI/fMRI_features_AAL.csv\",index_col=0)\n",
    "\n",
    "print('fMRI Subject IDs')\n",
    "print(fmri_features[\"Subject\"])\n",
    "\n",
    "# dwi_features = pd.read_csv(f\"{processed_data_path}/DWI/IDs+Labels+Features.csv\")\n",
    "\n",
    "## Old sub_list (14) above is kept for sample results later,\n",
    "## new sub_list (22) is loaded below\n",
    "dwi_features = pd.read_csv(f\"{processed_data_path}/DWI/IDs+Labels+Features_AllSubs.csv\")\n",
    "dwi_features[\"Subject\"]=dwi_features[\"ID\"].str[:9]\n",
    "dwi_features[\"Late Seizure Label\"]=dwi_features[\"Label\"]\n",
    "dwi_features=dwi_features.drop(\"Label\",axis=1)\n",
    "\n",
    "print(\"DWI Subject IDs\")\n",
    "print(dwi_features[\"Subject\"])\n",
    "\n",
    "eeg_features=pd.read_csv(f\"{processed_data_path}/EEG/EEG_features_v0.csv\",index_col=0)\n",
    "print(\"EEG Subject IDs\")\n",
    "print(eeg_features[\"Subject\"])"
   ]
  },
  {
   "cell_type": "code",
   "execution_count": 5,
   "metadata": {},
   "outputs": [],
   "source": [
    "# basic check for correctness\n",
    "#fMRI, EEG use \"Subject\" , \"Late Seizure Label\"\n",
    "\n",
    "for row_id,row in fmri_features.iterrows():\n",
    "    fmri_label=row[\"Late Seizure Label\"]\n",
    "    eeg_label=[]\n",
    "    if any(eeg_features[\"Subject\"]==row[\"Subject\"]):\n",
    "        eeg_label=int(eeg_features[\"Late Seizure Label\"].loc[eeg_features[\"Subject\"]==row[\"Subject\"]].to_numpy()[0])\n",
    "        if fmri_label!=eeg_label:\n",
    "            print(f'fMRI EEG mismatch subject {row[\"Subject\"]}')\n",
    "\n",
    "    if any(dwi_features[\"Subject\"]==row[\"Subject\"]):\n",
    "        dwi_label=int(dwi_features[\"Late Seizure Label\"].loc[dwi_features[\"Subject\"]==row[\"Subject\"]].to_numpy()[0])\n",
    "        if fmri_label!=dwi_label:\n",
    "            print(f'fMRI DWI mismatch subject {row[\"Subject\"]}')\n",
    "    \n"
   ]
  },
  {
   "cell_type": "code",
   "execution_count": 6,
   "metadata": {},
   "outputs": [],
   "source": [
    "# need to load EEG and DWI features and sort out which subjects to use programatically\n",
    "all_features_df=fmri_features.set_index(\"Subject\").join(dwi_features.set_index(\"Subject\"),how=\"outer\",lsuffix=\" fMRI\",rsuffix=\" DWI\").reset_index()\n",
    "all_features_df=all_features_df.set_index(\"Subject\").join(eeg_features.set_index(\"Subject\"),how=\"outer\",lsuffix=\" Mix\",rsuffix=\" EEG\").reset_index()\n",
    "all_features_df[\"Late Seizure Label EEG\"]=all_features_df[\"Late Seizure Label\"]\n",
    "\n",
    "\n",
    "all_features_df[\"Late Seizure Label\"]=(all_features_df[\"Late Seizure Label fMRI\"].fillna(0)+all_features_df[\"Late Seizure Label DWI\"].fillna(0)+all_features_df[\"Late Seizure Label EEG\"].fillna(0))>0\n"
   ]
  },
  {
   "cell_type": "code",
   "execution_count": 7,
   "metadata": {},
   "outputs": [],
   "source": [
    "def remove_non_features(column_list):\n",
    "    '''Removes column names that aren't features from column list'''\n",
    "    for to_remove in [\"ID\",\"Late Seizure Label\",\"Subject\",\"Subject Number\"]:\n",
    "        if to_remove in column_list:\n",
    "            column_list.remove(to_remove)\n",
    "    return column_list"
   ]
  },
  {
   "cell_type": "code",
   "execution_count": 10,
   "metadata": {},
   "outputs": [
    {
     "output_type": "stream",
     "name": "stdout",
     "text": [
      "[1 0 1 1 0 1 0 0 1 1 1 1 0 0 0 1 0 1 1 1 0 1]\n"
     ]
    }
   ],
   "source": [
    "\n",
    "# make np array features for classification\n",
    "\n",
    "dwi_columns=remove_non_features([*dwi_features])\n",
    "eeg_columns=remove_non_features([*eeg_features])\n",
    "fmri_columns=remove_non_features([*fmri_features])\n",
    "\n",
    "#dwi \n",
    "id_subs = dwi_features[\"ID\"].to_numpy()\n",
    "Y = dwi_features[\"Late Seizure Label\"].to_numpy()\n",
    "X = dwi_features[dwi_columns].to_numpy()\n",
    "\n",
    "# fMRI\n",
    "y=fmri_features[\"Late Seizure Label\"].to_numpy()\n",
    "\n",
    "overlap_columns=[]\n",
    "for col in fmri_columns:\n",
    "    if \"Overlap AAL\" in col:\n",
    "        overlap_columns.append(col)\n",
    "\n",
    "x_over_aal=fmri_features[overlap_columns].to_numpy()\n"
   ]
  },
  {
   "cell_type": "markdown",
   "metadata": {
    "tags": []
   },
   "source": [
    "# Baseline fMRI classifier function"
   ]
  },
  {
   "cell_type": "code",
   "execution_count": 60,
   "metadata": {},
   "outputs": [],
   "source": [
    "def fmri_classifier(x,y,n_subs,cv_inner,cv_outer,score_string,feature_string):\n",
    "    ''' Prints performance based on nested CV of kPCA combined with SVC for x and y.\n",
    "    '''    \n",
    "    seed_value= 42\n",
    "    os.environ['PYTHONHASHSEED']=str(seed_value)\n",
    "    random.seed(seed_value)\n",
    "    np.random.seed(seed_value)\n",
    "        \n",
    "    pipe_svc=Pipeline([(\"scale\",StandardScaler()),(\"pca\",KernelPCA()),(\"svm\",SVC(probability=True))])\n",
    "    param_grid_svc={\"pca__n_components\":[2,3,4,5,6],\"pca__gamma\":[.01,.05,.1],\"pca__kernel\":[\"sigmoid\",\"rbf\"],\n",
    "    \"svm__C\": [1, 10, 100], \"svm__gamma\": [.01, .1]}\n",
    "\n",
    "    search_svc=GridSearchCV(estimator=pipe_svc,scoring=score_string,param_grid=param_grid_svc,cv=cv_inner,refit=True)\n",
    "    \n",
    "#     scores_svc = cross_val_score(search_svc, x, y, scoring=score_string, cv=cv_outer, n_jobs=-1\n",
    "#     print(f\"Mean {scores_svc.mean()} and STD {scores_svc.std()}\")\n",
    "\n",
    "## Below excerpts are added to collect train and test predictions from the fMRI classifier\n",
    "\n",
    "    fold_no = cv_outer\n",
    "    data_type  = np.float32\n",
    "    X_fmri = np.zeros((fold_no, n_subs), dtype = data_type) \n",
    "    f1_scores = []\n",
    "    \n",
    "    folds = StratifiedKFold(n_splits=fold_no, shuffle=True, \n",
    "                            random_state=seed_value).split(x, y)\n",
    "\n",
    "    for j, (train_idx, test_idx) in enumerate(folds):\n",
    "        X_train_CV = x[train_idx,:]  \n",
    "        Y_train_CV = y[train_idx]   \n",
    "        X_test_CV = x[test_idx,:]   \n",
    "        Y_test_CV = y[test_idx]  \n",
    "        \n",
    "        ## 'model' is cleared here, should there be differnt models desired at each fold\n",
    "        model = None\n",
    "        ## The GridSearchCV selected model is passed here\n",
    "        model = search_svc\n",
    "        model.fit(X_train_CV, Y_train_CV)         \n",
    "   \n",
    "        ## Output probabilities are collected for both labels        \n",
    "        y_train_prob = model.predict_proba(X_train_CV) \n",
    "        y_test_prob = model.predict_proba(X_test_CV)  \n",
    "\n",
    "        ## Output probabilities for label '1' are collected as 'soft' labels   \n",
    "        y_train_soft = y_train_prob[:,1]\n",
    "        y_test_soft = y_test_prob[:,1]\n",
    "\n",
    "        for n in range(len(y_train_soft)):\n",
    "            X_fmri[j,n] = y_train_soft[n]\n",
    "        for q in range(len(y_test_soft)):\n",
    "            X_fmri[j,n+q+1] = y_test_soft[q]\n",
    "\n",
    "        ## Output probabilities are thresholded for performance evaluation   \n",
    "        y_train_pred = [i if i>0.5 else 0 for i in y_train_soft]\n",
    "        y_test_pred = [1 if i>0.5 else 0 for i in y_test_soft]\n",
    "                \n",
    "        f1_scores.append(f1_score(Y_test_CV, y_test_pred, average='weighted'))\n",
    "\n",
    "    f1_scores = np.array(f1_scores)\n",
    "    print(feature_string,'\\n',score_string,'Score:')\n",
    "    print(f\"Mean {f1_scores.mean()} and STD {f1_scores.std()}\")\n",
    "    \n",
    "    ## Returns a 'soft' label prediction array, which is [fold_no * no_of_subjects]\n",
    "    return X_fmri"
   ]
  },
  {
   "cell_type": "markdown",
   "metadata": {
    "tags": []
   },
   "source": [
    "# Call to the baseline fMRI classifier"
   ]
  },
  {
   "cell_type": "code",
   "execution_count": 63,
   "metadata": {
    "scrolled": true,
    "tags": []
   },
   "outputs": [
    {
     "name": "stdout",
     "output_type": "stream",
     "text": [
      "Overall Strength AAL \n",
      " f1 Score:\n",
      "Mean 0.5866666666666667 and STD 0.22070593809662464\n",
      "\n",
      "Soft labels from fMRI: \n",
      " [[0.61344963 0.5867281  0.5894009  0.6131229  0.6131252  0.6144325\n",
      "  0.60970795 0.04414539 0.6201913  0.61643404 0.8392137  0.5\n",
      "  0.612655   0.59729505]\n",
      " [0.5851145  0.6383988  0.7107041  0.5497094  0.7062056  0.63839066\n",
      "  0.73379594 0.6955469  0.9744982  0.57318723 0.89217496 0.7586372\n",
      "  0.759464   0.6235816 ]\n",
      " [0.79753786 0.8751962  0.5867876  0.79753417 0.75504684 0.59968156\n",
      "  0.62722456 0.08027853 0.08028168 0.8004634  0.7973967  0.61028075\n",
      "  0.58336693 0.79900354]\n",
      " [0.5889551  0.7921351  0.58901405 0.5159537  0.7337308  0.5890122\n",
      "  0.5635443  0.857438   0.9677468  0.5526291  0.58883667 0.67198086\n",
      "  0.7296655  0.999996  ]\n",
      " [0.59561974 0.56444657 0.6446398  0.4597996  0.6274126  0.5957533\n",
      "  0.6129569  0.569433   0.68472975 0.60838765 0.5956206  0.5500343\n",
      "  0.57045925 0.26739478]]\n"
     ]
    }
   ],
   "source": [
    "def warn(*args, **kwargs):\n",
    "    pass\n",
    "import warnings\n",
    "warnings.warn = warn\n",
    "\n",
    "n_subs = 14 # No. of subjects\n",
    "cv_outer=5\n",
    "cv_inner=KFold(n_splits=3,shuffle=True,random_state=42)\n",
    "\n",
    "X_fmri = fmri_classifier(x_over_aal,y,n_subs,cv_inner,cv_outer,\"f1\",\"Overall Strength AAL\")\n",
    "\n",
    "print('\\nSoft labels from fMRI: \\n', X_fmri)"
   ]
  },
  {
   "cell_type": "markdown",
   "metadata": {
    "tags": []
   },
   "source": [
    "# Baseline DWI classifier function"
   ]
  },
  {
   "cell_type": "code",
   "execution_count": 35,
   "metadata": {
    "tags": []
   },
   "outputs": [],
   "source": [
    "def dwi_classifier(X,Y,n_subs,n_feats,cv_outer,score_string,feature_string):\n",
    "    ''' Prints classification performance and collects prediction probabilities for x and y.\n",
    "    '''    \n",
    "    seed_value= 42\n",
    "    os.environ['PYTHONHASHSEED']=str(seed_value)\n",
    "    random.seed(seed_value)\n",
    "    np.random.seed(seed_value)\n",
    "\n",
    "    fold_no = cv_outer\n",
    "    data_type  = np.float32\n",
    "    X_dwi = np.zeros((fold_no, n_subs), dtype = data_type) \n",
    "\n",
    "    f1_scores = []\n",
    "    folds = StratifiedKFold(n_splits=fold_no, shuffle=True, \n",
    "                            random_state=seed_value).split(X, Y)\n",
    "\n",
    "    for j, (train_idx, test_idx) in enumerate(folds):\n",
    "        X_train_CV = X.iloc[train_idx,:]  \n",
    "        Y_train_CV = Y.iloc[train_idx]   \n",
    "        Y_train_CV = np.ravel(Y_train_CV)\n",
    "        X_test_CV = X.iloc[test_idx,:]   \n",
    "        Y_test_CV = Y.iloc[test_idx]  \n",
    "        Y_test_CV = np.ravel(Y_test_CV)\n",
    "        \n",
    "        ## Univariate feature selection\n",
    "#         sel_mutual = SelectKBest(mutual_info_classif, k=n_feats)\n",
    "        sel_mutual = SelectKBest(chi2, k=n_feats)\n",
    "#         sel_mutual = SelectKBest(f_classif, k=n_feats)\n",
    "\n",
    "        X_train_CV = sel_mutual.fit_transform(X_train_CV, Y_train_CV)\n",
    "        X_test_CV = sel_mutual.transform(X_test_CV)\n",
    "\n",
    "        model = None\n",
    "#         model = LinearDiscriminantAnalysis()      \n",
    "        model = AdaBoostClassifier(n_estimators=100)\n",
    "        model.fit(X_train_CV, Y_train_CV)\n",
    "   \n",
    "        ## Output probabilities are collected for both labels        \n",
    "        y_train_prob = model.predict_proba(X_train_CV) \n",
    "        y_test_prob = model.predict_proba(X_test_CV)  \n",
    "\n",
    "        ## Output probabilities for label '1' are collected as 'soft' labels   \n",
    "        y_train_soft = y_train_prob[:,1]\n",
    "        y_test_soft = y_test_prob[:,1]\n",
    "\n",
    "        for n in range(len(y_train_soft)):\n",
    "            X_dwi[j,n] = y_train_soft[n]\n",
    "        for q in range(len(y_test_soft)):\n",
    "            X_dwi[j,n+q+1] = y_test_soft[q]\n",
    "\n",
    "        ## Output probabilities are thresholded for performance evaluation   \n",
    "        y_train_pred = [i if i>0.5 else 0 for i in y_train_soft]\n",
    "        y_test_pred = [1 if i>0.5 else 0 for i in y_test_soft]\n",
    "                \n",
    "        f1_scores.append(f1_score(Y_test_CV, y_test_pred, average='weighted'))\n",
    "\n",
    "    f1_scores = np.array(f1_scores)\n",
    "    print('\\n',feature_string,'Classifier,',score_string,'Score:')\n",
    "    print(f\"Mean {f1_scores.mean()} and STD {f1_scores.std()}\")\n",
    "    \n",
    "    ## Returns an array of 'soft' labels, which is [fold_no * no_of_subjects]\n",
    "    return X_dwi"
   ]
  },
  {
   "cell_type": "markdown",
   "metadata": {
    "tags": []
   },
   "source": [
    "# Call to the baseline DWI classifier"
   ]
  },
  {
   "cell_type": "code",
   "execution_count": 64,
   "metadata": {
    "scrolled": true,
    "tags": []
   },
   "outputs": [
    {
     "name": "stdout",
     "output_type": "stream",
     "text": [
      "\n",
      " chi2-AdaBoost Classifier, f1 Score:\n",
      "Mean 0.9333333333333332 and STD 0.13333333333333336\n",
      "\n",
      "Soft labels from DWI: \n",
      " [[9.9999350e-01 6.4875835e-06 9.9999619e-01 9.9999607e-01 6.4875835e-06\n",
      "  6.4875835e-06 6.4875835e-06 9.9999475e-01 9.9999350e-01 9.9999350e-01\n",
      "  9.9999619e-01 9.9920315e-01 2.6234302e-01 9.9458814e-01]\n",
      " [9.9985677e-01 9.9994808e-01 9.9989462e-01 1.4123785e-04 9.9988711e-01\n",
      "  9.9989873e-01 1.4123785e-04 1.4123785e-04 1.4123785e-04 1.0000000e+00\n",
      "  9.9985677e-01 2.7744222e-02 1.4997989e-01 9.9999946e-01]\n",
      " [9.9999398e-01 5.3810595e-06 9.9999398e-01 6.6243315e-06 9.9999398e-01\n",
      "  9.9999398e-01 5.3810595e-06 7.8677995e-06 9.9999213e-01 9.9999398e-01\n",
      "  9.9999362e-01 1.0000000e+00 7.8677995e-06 9.9999124e-01]\n",
      " [6.5000377e-06 9.9999350e-01 9.9999756e-01 6.5000377e-06 9.9999350e-01\n",
      "  9.9999619e-01 6.5000377e-06 6.5000377e-06 9.9999475e-01 9.9999350e-01\n",
      "  9.9999350e-01 9.9997252e-01 2.9343336e-03 9.2363250e-01]\n",
      " [9.9999350e-01 6.5097142e-06 9.9999350e-01 9.9999774e-01 6.5097142e-06\n",
      "  9.9999350e-01 6.5097142e-06 6.5097142e-06 9.9999475e-01 9.9999350e-01\n",
      "  9.9999350e-01 9.9999791e-01 9.9981678e-01 3.0419353e-04]]\n"
     ]
    }
   ],
   "source": [
    "n_subs = 14\n",
    "cv_outer = 5\n",
    "n_feats = 7\n",
    "\n",
    "X_dwi = dwi_classifier(X,Y,n_subs,n_feats,cv_outer,\"f1\",\"chi2-AdaBoost\")\n",
    "\n",
    "print('\\nSoft labels from DWI: \\n', X_dwi)"
   ]
  },
  {
   "cell_type": "markdown",
   "metadata": {
    "tags": []
   },
   "source": [
    "# Baseline EEG classifier function"
   ]
  },
  {
   "cell_type": "code",
   "execution_count": null,
   "metadata": {},
   "outputs": [],
   "source": [
    "## def eeg_classifier():\n",
    "##     return X_eeg"
   ]
  },
  {
   "cell_type": "markdown",
   "metadata": {
    "tags": []
   },
   "source": [
    "# Call to the baseline EEG classifier"
   ]
  },
  {
   "cell_type": "code",
   "execution_count": null,
   "metadata": {},
   "outputs": [],
   "source": [
    "## X_eeg = eeg_classifier()"
   ]
  },
  {
   "cell_type": "markdown",
   "metadata": {
    "tags": []
   },
   "source": [
    "# Baseline fusion classifier "
   ]
  },
  {
   "cell_type": "code",
   "execution_count": 67,
   "metadata": {
    "scrolled": true,
    "tags": []
   },
   "outputs": [
    {
     "name": "stdout",
     "output_type": "stream",
     "text": [
      "Fusion classifier \n",
      " F1 Score:\n",
      "Mean 0.8400000000000001 and STD 0.20044395171163878\n"
     ]
    }
   ],
   "source": [
    "seed_value= 42\n",
    "os.environ['PYTHONHASHSEED']=str(seed_value)\n",
    "random.seed(seed_value)\n",
    "np.random.seed(seed_value)\n",
    "\n",
    "n_modalities = 2 # No. of modalities for fusion \n",
    "cv_outer = 5\n",
    "n_subs = 14\n",
    "data_type  = np.float32   \n",
    "f1_scores = []\n",
    "X_fusion = np.zeros((cv_outer,n_subs,n_modalities), dtype = data_type) \n",
    "\n",
    "## Meta labels are loaded\n",
    "X_fusion[:,:,0] = X_fmri\n",
    "X_fusion[:,:,1] = X_dwi\n",
    "# X_fusion[:,:,2] = X_eeg\n",
    "\n",
    "## Due to small size of each fold, \n",
    "## certain evaluation metrics and plots are currently omitted\n",
    "\n",
    "folds = StratifiedKFold(n_splits=cv_outer, shuffle=True, \n",
    "                        random_state=seed_value).split(X,Y) \n",
    "\n",
    "for j, (train_idx, test_idx) in enumerate(folds):\n",
    "    X_train_CV = X_fusion[j,0:len(train_idx),:]\n",
    "    Y_train_CV = Y.iloc[train_idx]   \n",
    "    Y_train_CV = np.ravel(Y_train_CV)\n",
    "    X_test_CV = X_fusion[j,len(train_idx):,:]   \n",
    "    Y_test_CV = Y.iloc[test_idx]     \n",
    "    Y_test_CV = np.ravel(Y_test_CV)\n",
    "\n",
    "    model_1 = LogisticRegression(random_state=seed_value)   \n",
    "#     model_2 = GaussianNB()         \n",
    "#     model_3 = make_pipeline(StandardScaler(), SVC(gamma='auto',probability=True))\n",
    "#     model_4 = AdaBoostClassifier(n_estimators=100)\n",
    "#     model_fuse = VotingClassifier(estimators=[('lr',model_1),('gnb',model_2),\n",
    "#                                               ('svc',model_3),('adb',model_4)],voting='soft')\n",
    "\n",
    "    model_1.fit(X_train_CV, Y_train_CV)                      \n",
    "    y_test_pred = model_1.predict(X_test_CV)                  \n",
    "    f1_scores.append(f1_score(Y_test_CV, y_test_pred, average='weighted'))\n",
    "\n",
    "f1_scores = np.array(f1_scores)\n",
    "print('Fusion classifier \\n F1 Score:')\n",
    "print(f\"Mean {f1_scores.mean()} and STD {f1_scores.std()}\")"
   ]
  },
  {
   "cell_type": "markdown",
   "metadata": {},
   "source": [
    "# Dump"
   ]
  },
  {
   "cell_type": "code",
   "execution_count": null,
   "metadata": {
    "jupyter": {
     "source_hidden": true
    },
    "tags": []
   },
   "outputs": [],
   "source": [
    "# n_feats = [i+1 for i in range(10)]\n",
    "# for i in n_feats:\n",
    "#     X_dwi = dwi_classifier(X,Y,n_subs,i,cv_outer,\"f1\",\"chi2-LDA\")"
   ]
  }
 ],
 "metadata": {
  "kernelspec": {
   "name": "python383jvsc74a57bd00b0d6ee5094ba448ea21ef6bc709088a42b4416205575141ef6f4db393a30381",
   "display_name": "Python 3.8.3 64-bit ('base': conda)"
  },
  "language_info": {
   "codemirror_mode": {
    "name": "ipython",
    "version": 3
   },
   "file_extension": ".py",
   "mimetype": "text/x-python",
   "name": "python",
   "nbconvert_exporter": "python",
   "pygments_lexer": "ipython3",
   "version": "3.8.3"
  }
 },
 "nbformat": 4,
 "nbformat_minor": 4
}