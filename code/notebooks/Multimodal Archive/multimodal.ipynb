{
 "metadata": {
  "language_info": {
   "codemirror_mode": {
    "name": "ipython",
    "version": 3
   },
   "file_extension": ".py",
   "mimetype": "text/x-python",
   "name": "python",
   "nbconvert_exporter": "python",
   "pygments_lexer": "ipython3",
   "version": "3.7.9-final"
  },
  "orig_nbformat": 2,
  "kernelspec": {
   "name": "python3",
   "display_name": "Python 3.7.9 64-bit ('python3.7': conda)",
   "metadata": {
    "interpreter": {
     "hash": "599ece31c4fde4e4e1599195ac9379fe78fed0240411f7d7e69c7ad4d96148a7"
    }
   }
  }
 },
 "nbformat": 4,
 "nbformat_minor": 2,
 "cells": [
  {
   "cell_type": "code",
   "execution_count": 1,
   "metadata": {},
   "outputs": [],
   "source": [
    "import numpy as np\n",
    "%matplotlib inline\n",
    "import matplotlib.pyplot as plt \n",
    "\n",
    "from sklearn.decomposition import KernelPCA\n",
    "from sklearn.svm import SVC\n",
    "from sklearn.preprocessing import StandardScaler\n",
    "from sklearn.model_selection import cross_val_score, GridSearchCV, StratifiedKFold,KFold\n",
    "from sklearn.pipeline import Pipeline\n",
    "from sklearn.metrics import classification_report, confusion_matrix\n",
    "from sklearn.ensemble import RandomForestClassifier\n"
   ]
  },
  {
   "cell_type": "code",
   "execution_count": 21,
   "metadata": {},
   "outputs": [
    {
     "output_type": "stream",
     "name": "stdout",
     "text": [
      "Subject IDs\n['3_13_0063', '3_13_0068', '3_17_0001', '3_17_0004', '3_17_0007', '3_17_0009', '3_17_0012', '3_17_0019', '3_17_0048', '3_19_0050', '3_21_0040', '3_21_0061', '3_26_0080', '3_26_0092']\n"
     ]
    }
   ],
   "source": [
    "# load fMRI features\n",
    "\n",
    "data_path=\"../../data\"\n",
    "processed_data_path=f\"{data_path}/processed/fMRI\"\n",
    "\n",
    "\n",
    "labels=np.load(f\"{processed_data_path}/Labels.npy\")\n",
    "lesion_overlap_aal=np.load(f\"{processed_data_path}/Lesion_Overlap_AAL.npy\")\n",
    "pos_str_aal=np.load(f\"{processed_data_path}/Mean_Str_Pos_AAL.npy\")\n",
    "neg_str_aal=np.load(f\"{processed_data_path}/Mean_Str_Neg_AAL.npy\")\n",
    "lesion_overlap_sch=np.load(f\"{processed_data_path}/Lesion_Overlap_SCH.npy\")\n",
    "pos_str_sch=np.load(f\"{processed_data_path}/Mean_Str_Pos_SCH.npy\")\n",
    "neg_str_sch=np.load(f\"{processed_data_path}/Mean_Str_Neg_SCH.npy\")\n",
    "subjects_aal=[]\n",
    "with open(f\"{processed_data_path}/Lesion_Overlap_AAL_Subjects.txt\",\"r\") as f:\n",
    "    subjects_aal=f.read().splitlines()\n",
    "subjects_aal=np.array(subjects_aal).astype(float)\n",
    "\n",
    "with open(f\"{processed_data_path}/IDs.txt\",\"r\") as f:\n",
    "    subject_IDs=f.read().splitlines()\n",
    "\n",
    "\n",
    "useable_subjects,label_ind,aal_ind=np.intersect1d(labels[:,0],subjects_aal,return_indices=True)\n",
    "\n",
    "useable_string=useable_subjects.astype(int).astype(str)\n",
    "fmri_subject_ids=list()\n",
    "for ele in subject_IDs:\n",
    "    num,id=ele.split(',')\n",
    "    if num in useable_string:\n",
    "        fmri_subject_ids.append(id)\n",
    "\n",
    "\n",
    "print('fMRI Subject IDs')\n",
    "print(fmri_subject_ids)\n",
    "# Here are the fMRI features \n",
    "#pos stands for positive strength\n",
    "#neg stands for negative strength\n",
    "#over stands for lesion overlap\n",
    "# AAL and SCH are the two atlases, so x_pos_aal and x_pos_sch are the same quantity calculated on a slightly different network\n",
    "# All features are in Subjects by Num Sub-features (166 for AAL,100 for SCH)\n",
    "y=labels[label_ind,1]\n",
    "x_pos_aal=pos_str_aal[:,aal_ind].transpose()\n",
    "x_neg_aal=neg_str_aal[:,aal_ind].transpose()\n",
    "x_over_aal=lesion_overlap_aal[:,aal_ind].transpose()\n",
    "x_pos_sch=pos_str_sch[:,aal_ind].transpose()\n",
    "x_neg_sch=neg_str_sch[:,aal_ind].transpose()\n",
    "x_over_sch=lesion_overlap_sch[:,aal_ind].transpose()"
   ]
  },
  {
   "cell_type": "code",
   "execution_count": null,
   "metadata": {},
   "outputs": [],
   "source": []
  }
 ]
}