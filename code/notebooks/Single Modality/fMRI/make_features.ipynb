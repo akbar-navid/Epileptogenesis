{
 "metadata": {
  "language_info": {
   "codemirror_mode": {
    "name": "ipython",
    "version": 3
   },
   "file_extension": ".py",
   "mimetype": "text/x-python",
   "name": "python",
   "nbconvert_exporter": "python",
   "pygments_lexer": "ipython3",
   "version": "3.7.9"
  },
  "orig_nbformat": 2,
  "kernelspec": {
   "name": "python379jvsc74a57bd0599ece31c4fde4e4e1599195ac9379fe78fed0240411f7d7e69c7ad4d96148a7",
   "display_name": "Python 3.7.9 64-bit ('python3.7': conda)"
  }
 },
 "nbformat": 4,
 "nbformat_minor": 2,
 "cells": [
  {
   "source": [
    "# Make Features\n",
    "This notebook loads the outputs from the fMRI preprocessing pipeline in MATLAB and transforms them to feature vectors which will be used to train a seizure classifier. \n",
    "\n",
    "Currently only loading features extracted from the TPM pipeline and Lesion Overlaps, which that are pipeline independent."
   ],
   "cell_type": "markdown",
   "metadata": {}
  },
  {
   "cell_type": "code",
   "execution_count": 1,
   "metadata": {},
   "outputs": [],
   "source": [
    "from scipy.io import loadmat\n",
    "import numpy as np \n",
    "import pandas as pd \n"
   ]
  },
  {
   "cell_type": "code",
   "execution_count": 2,
   "metadata": {},
   "outputs": [],
   "source": [
    "# notebook to load and structure all the processed fMRI variables\n",
    "\n",
    "# start by loading everything that is needed for hypothesis testing\n",
    "# subject list [1,2,4,6:11,13:25,27:29,31:36,39:41,43:44]\n",
    "subjs=[1,2,4,*range(6,12),*range(13,26),27,28,29,*range(31,37),*range(39,42),43,44]\n",
    "Pipes=['tpm']\n",
    "Atlas=['AAL','SCH']\n",
    "AAL_ind=[val for val in range(166)]\n",
    "SCH_ind=[val for val in range(166,266)]\n",
    "\n",
    "data_path=\"../../../../data\" #there has to be a better way to get this info, but I don't have time to research it now\n",
    "raw_data_path=f\"{data_path}/raw/fMRI\"\n",
    "intermediate_data_path=f\"{data_path}/intermediate/fMRI\"\n",
    "processed_data_path=f\"{data_path}/processed/fMRI\"\n"
   ]
  },
  {
   "cell_type": "code",
   "execution_count": 3,
   "metadata": {},
   "outputs": [],
   "source": [
    "def lesion_overlap_load(atlas,save_flag=False):\n",
    "    ''' Loads the lesion overlaps for a given atlas and then saves them in processed if save_flag\n",
    "    '''\n",
    "    les_load=loadmat(f'{raw_data_path}/Lesion_Overlap_{atlas.upper()}.mat')\n",
    "    #save overlap in an easily accessible way\n",
    "    overlap=np.array(les_load[\"overlap\"])\n",
    "    roi_names=les_load[\"ROInames\"][0][0][0] #the export from matlab produced a weird nested structure here which is inconvenient\n",
    "    subjects=les_load[\"subjects\"][0]\n",
    "\n",
    "    if save_flag:\n",
    "        np.save(f'{processed_data_path}/Lesion_Overlap_{atlas.upper()}.npy',overlap)\n",
    "\n",
    "        with open(f'{processed_data_path}/Lesion_Overlap_{atlas.upper()}_ROIs.txt','w') as f:\n",
    "            for roi in roi_names:\n",
    "                f.write(f\"{roi[0]}\\n\")\n",
    "\n",
    "        with open(f'{processed_data_path}/Lesion_Overlap_{atlas.upper()}_Subjects.txt','w') as f:\n",
    "            for subj in subjects:\n",
    "                f.write(f\"{subj}\\n\")\n",
    "    \n",
    "    return overlap,roi_names,subjects \n"
   ]
  },
  {
   "cell_type": "code",
   "execution_count": 4,
   "metadata": {},
   "outputs": [],
   "source": [
    "def strength_load(atlas,save_flag=False):\n",
    "    ''' Loads the strength features for a given atlas from tpm pipeline and then saves them in processed if save_flag\n",
    "    '''\n",
    "    str_load=loadmat(f'{raw_data_path}/4mm_tpm.mat')\n",
    "    if atlas.lower()==\"sch\":\n",
    "        matrices=np.array(str_load[\"Schaefer_mats\"])\n",
    "    else:\n",
    "        matrices=np.array(str_load[f\"{atlas.upper()}_mats\"])\n",
    "\n",
    "    dim1,dim2,num_subjs=matrices.shape\n",
    "    mean_str_pos=np.zeros((dim1,num_subjs))\n",
    "    mean_str_neg=np.zeros((dim1,num_subjs))\n",
    "    for subj in range(num_subjs):\n",
    "        for dim in range(dim1):\n",
    "            col=matrices[dim,:,subj]\n",
    "            mean_str_pos[dim,subj]=col[col>0].mean()\n",
    "            mean_str_neg[dim,subj]=col[col<0].mean()\n",
    "    \n",
    "    if save_flag:\n",
    "        np.save(f'{processed_data_path}/Mean_Str_Pos_{atlas.upper()}.npy',mean_str_pos)\n",
    "        np.save(f'{processed_data_path}/Mean_Str_Neg_{atlas.upper()}.npy',mean_str_neg)\n",
    "\n",
    "    return mean_str_pos,mean_str_neg"
   ]
  },
  {
   "cell_type": "code",
   "execution_count": 5,
   "metadata": {
    "tags": []
   },
   "outputs": [],
   "source": [
    "def make_feature_df(atlas,save_flag=False):\n",
    "    ''' Makes the feature dataframe with Overlap, Pos strength, and Neg strength'''\n",
    "    labels=pd.read_csv(f'{raw_data_path}/fMRI_labels.csv')\n",
    "\n",
    "    overlap,roi_names,subjects=lesion_overlap_load(atlas)\n",
    "    mean_str_pos,mean_str_neg=strength_load(atlas)\n",
    "\n",
    "    fMRI_features=pd.DataFrame()\n",
    "\n",
    "\n",
    "    for index, row in labels.iterrows():\n",
    "        subject_ind=np.where(np.array(subjects)==int(row[\"Subject Number\"][-2:]))[0]\n",
    "        if subject_ind.size>0:\n",
    "            subject_dict=row.to_dict()\n",
    "            for roi_ind,roi in enumerate(roi_names):\n",
    "                subject_dict[f\"Overlap {roi[0]}\"]=overlap[roi_ind,subject_ind][0]\n",
    "                subject_dict[f\"Mean Str Pos {roi[0]}\"]=mean_str_pos[roi_ind,subject_ind][0]\n",
    "                subject_dict[f\"Mean Str Neg {roi[0]}\"]=mean_str_neg[roi_ind,subject_ind][0]\n",
    "            fMRI_features=fMRI_features.append(subject_dict,ignore_index=True)\n",
    "    if save_flag:\n",
    "        fMRI_features.to_csv(f'{processed_data_path}/fMRI_features_{atlas.upper()}.csv')\n",
    "\n",
    "    return fMRI_features\n",
    "\n"
   ]
  },
  {
   "cell_type": "code",
   "execution_count": 6,
   "metadata": {},
   "outputs": [],
   "source": [
    "fMRI_features=make_feature_df(\"aal\",save_flag=True)\n",
    "fMRI_features=make_feature_df(\"sch\",save_flag=True)\n"
   ]
  },
  {
   "cell_type": "code",
   "execution_count": null,
   "metadata": {},
   "outputs": [],
   "source": []
  }
 ]
}