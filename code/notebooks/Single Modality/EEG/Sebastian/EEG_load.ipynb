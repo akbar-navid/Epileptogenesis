{
 "metadata": {
  "language_info": {
   "codemirror_mode": {
    "name": "ipython",
    "version": 3
   },
   "file_extension": ".py",
   "mimetype": "text/x-python",
   "name": "python",
   "nbconvert_exporter": "python",
   "pygments_lexer": "ipython3",
   "version": "3.7.9"
  },
  "orig_nbformat": 2,
  "kernelspec": {
   "name": "python379jvsc74a57bd0599ece31c4fde4e4e1599195ac9379fe78fed0240411f7d7e69c7ad4d96148a7",
   "display_name": "Python 3.7.9 64-bit ('python3.7': conda)"
  }
 },
 "nbformat": 4,
 "nbformat_minor": 2,
 "cells": [
  {
   "source": [
    "File to load basic information from EEG reviews and save both an intermediate data frame with time stamps for future use and summary statistics\n",
    " "
   ],
   "cell_type": "markdown",
   "metadata": {}
  },
  {
   "cell_type": "code",
   "execution_count": 2,
   "metadata": {},
   "outputs": [],
   "source": [
    "import numpy as np \n",
    "import pandas as pd \n",
    "import os\n",
    "import re"
   ]
  },
  {
   "cell_type": "code",
   "execution_count": 2,
   "metadata": {},
   "outputs": [],
   "source": [
    "data_path='../../../../../data'\n",
    "reviews_data_path=f'{data_path}/raw/EEG/Completed Reviews/2nd Pass' # only loading reviews that have been reviewed twice\n"
   ]
  },
  {
   "cell_type": "code",
   "execution_count": 18,
   "metadata": {},
   "outputs": [],
   "source": [
    "file_list=os.listdir(reviews_data_path)\n"
   ]
  },
  {
   "cell_type": "code",
   "execution_count": 37,
   "metadata": {},
   "outputs": [],
   "source": [
    "def read_eeg_review(file_name):\n",
    "    '''\n",
    "    Returns a subject ID and dataframe with event data from a file name\n",
    "    '''\n",
    "\n",
    "    file_path=f'{reviews_data_path}/{file_name}'\n",
    "\n",
    "    #needs openpyxl and pandas 1.2 to load .xlsx files\n",
    "\n",
    "    #loading file into seperate dataframes to deal with document structure\n",
    "    event_info=pd.read_excel(file_path,usecols=\"A:C\",skiprows=1).dropna().reset_index(drop=True)\n",
    "    number_of_events=len(event_info)\n",
    "    seizure_info=pd.read_excel(file_path,usecols=\"D,K\",skiprows=2).iloc[-number_of_events:].reset_index(drop=True)\n",
    "    per_dis_info=pd.read_excel(file_path,usecols=\"M,V\",skiprows=2).iloc[-number_of_events:].reset_index(drop=True)\n",
    "    rda_info=pd.read_excel(file_path,usecols=\"Y,AH\",skiprows=2).iloc[-number_of_events:].reset_index(drop=True)\n",
    "\n",
    "    comments=pd.read_excel(file_path,usecols=\"L,X,AI,AJ,AK\",skiprows=2,names=[\"Seizure\",\"PDs\",\"RDAs\",\"General\",\"Surprise\"]).iloc[-number_of_events:].reset_index(drop=True)\n",
    "    event_df=event_info.join([seizure_info,per_dis_info,rda_info])\n",
    "\n",
    "    for m in re.finditer(\"\\d{4}\",file_name): #find a 4 digit number and pull the 5 characters before it as subject ID\n",
    "        subject_id=file_name[m.start(0)-5:m.end(0)]\n",
    "\n",
    "    return subject_id,event_df,comments\n"
   ]
  },
  {
   "cell_type": "code",
   "execution_count": 60,
   "metadata": {},
   "outputs": [],
   "source": [
    "def save_eeg_review(subject_id,event_df,comments):\n",
    "    ''' Saves extracted events based on subject_id '''\n",
    "    save_name=f'{data_path}/intermediate/EEG/{subject_id}.csv'\n",
    "    event_df.to_csv(save_name)\n",
    "    comment_save_name=f'{data_path}/intermediate/EEG/{subject_id}_comments.csv'\n",
    "    comments.to_csv(comment_save_name)\n",
    "    "
   ]
  },
  {
   "cell_type": "code",
   "execution_count": 53,
   "metadata": {},
   "outputs": [],
   "source": [
    "def flag_files_events(subject_id,event_df,comments):\n",
    "    ''' Flags a file if there are comments. Currently not used below.'''\n",
    "    if ~comments.isnull().values.all():\n",
    "        print(f\"{subject_id},\")\n",
    "\n",
    "    return\n"
   ]
  },
  {
   "cell_type": "code",
   "execution_count": 26,
   "metadata": {},
   "outputs": [],
   "source": [
    "def make_save_eeg_features(subject_id,event_df):\n",
    "    ''' \n",
    "    Makes the first round of EEG based features and saves them. \n",
    "    \n",
    "    Initial features are total number and total duration of seizures, PDs, and  RDAs.\n",
    "    '''\n",
    "\n",
    "    total_df=pd.DataFrame(event_df.sum(), columns=['Total'])\n",
    "    if \"Event Identified On\" in total_df.index:\n",
    "        total_df=total_df.drop(\"Event Identified On\")\n",
    "    save_name=f'{data_path}/processed/EEG/{subject_id}.csv'\n",
    "    total_df.to_csv(save_name)\n"
   ]
  },
  {
   "source": [
    "for file_name in file_list:\n",
    "    subject_id,event_df,comments=read_eeg_review(file_name)\n",
    "    save_eeg_review(subject_id,event_df,comments)\n",
    "    #make_save_eeg_features(subject_id,event_df)"
   ],
   "cell_type": "code",
   "metadata": {},
   "execution_count": 62,
   "outputs": []
  },
  {
   "cell_type": "code",
   "execution_count": 29,
   "metadata": {},
   "outputs": [],
   "source": [
    "label_df=pd.read_csv('../../../../../data/raw/EEG/EEG_labels.csv')\n",
    "\n",
    "event_types=[\"Seizure\",\"PDs\",\"RDAs\"]\n",
    "#event_types=[\"Seizure\",\"Duration of Seizure\",\"PDs\",\"Total Duration (waxing waning PDs)\",\"RDAs\",\"Total Duration (waxing waning RDAs)\"]\n",
    "#3_17_0007 and 3_17_0012 don't have the full set of duration measurements, so I'm ignoring duration measurements for the initial classifier\n",
    "\n",
    "eeg_features = pd.DataFrame()\n",
    "\n",
    "for row_ind,row in label_df.iterrows():\n",
    "\n",
    "    feature_df=pd.read_csv(f'../../../../../data/processed/EEG/{row[\"Subject\"]}.csv')\n",
    "    row_dict=row.to_dict()\n",
    "    for index,event in enumerate(event_types):\n",
    "        row_dict[event]=int(feature_df[\"Total\"].loc[feature_df[\"Unnamed: 0\"]==event].iat[0])\n",
    "    eeg_features=eeg_features.append(row_dict,ignore_index=True)\n",
    "\n",
    "\n",
    "eeg_features.to_csv(\"../../../../../data/processed/EEG/EEG_features_v0.csv\")"
   ]
  }
 ]
}