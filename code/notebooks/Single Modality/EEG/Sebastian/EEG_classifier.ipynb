{
 "metadata": {
  "language_info": {
   "codemirror_mode": {
    "name": "ipython",
    "version": 3
   },
   "file_extension": ".py",
   "mimetype": "text/x-python",
   "name": "python",
   "nbconvert_exporter": "python",
   "pygments_lexer": "ipython3",
   "version": "3.7.9"
  },
  "orig_nbformat": 2,
  "kernelspec": {
   "name": "python379jvsc74a57bd0599ece31c4fde4e4e1599195ac9379fe78fed0240411f7d7e69c7ad4d96148a7",
   "display_name": "Python 3.7.9 64-bit ('python3.7': conda)"
  }
 },
 "nbformat": 4,
 "nbformat_minor": 2,
 "cells": [
  {
   "source": [
    "Loads EEG labels and basic features and calculates a baseline classifier based on first round of EEG features"
   ],
   "cell_type": "markdown",
   "metadata": {}
  },
  {
   "cell_type": "code",
   "execution_count": 38,
   "metadata": {},
   "outputs": [],
   "source": [
    "import os\n",
    "\n",
    "import pandas as pd\n",
    "import numpy as np\n",
    "\n",
    "from sklearn.decomposition import KernelPCA\n",
    "from sklearn.svm import SVC\n",
    "from sklearn.preprocessing import StandardScaler\n",
    "from sklearn.model_selection import cross_val_score, GridSearchCV, StratifiedKFold,KFold\n",
    "from sklearn.pipeline import Pipeline\n",
    "from sklearn.metrics import classification_report, confusion_matrix\n",
    "from sklearn.ensemble import RandomForestClassifier\n",
    "from sklearn.linear_model import LogisticRegression\n"
   ]
  },
  {
   "cell_type": "code",
   "execution_count": 21,
   "metadata": {},
   "outputs": [],
   "source": [
    "label_df=pd.read_csv('../../../../../data/raw/EEG/EEG_labels.csv')"
   ]
  },
  {
   "cell_type": "code",
   "execution_count": 22,
   "metadata": {},
   "outputs": [],
   "source": [
    "y=label_df[\"Late Seizure Label\"].to_numpy()\n",
    "\n",
    "event_types=[\"Seizure\",\"PDs\",\"RDAs\"]\n",
    "#event_types=[\"Seizure\",\"Duration of Seizure\",\"PDs\",\"Total Duration (waxing waning PDs)\",\"RDAs\",\"Total Duration (waxing waning RDAs)\"]\n",
    "#3_17_0007 and 3_17_0012 don't have the full set of duration measurements, so I'm ignoring duration measurements for the initial classifier\n",
    "\n",
    "\n",
    "#feature_df[\"Total\"].loc[feature_df[\"Unnamed: 0\"]==\"Duration of Seizure\"][1]\n",
    "names=[]\n",
    "features=np.zeros((3,len(label_df[\"Subject\"])))\n",
    "seizure=[]\n",
    "pds=[]\n",
    "rdas=[]\n",
    "\n",
    "for name_ind,name in enumerate(label_df[\"Subject\"]):\n",
    "    feature_df=pd.read_csv(f'../../../../../data/processed/EEG/{name}.csv')\n",
    "    names.append(name)\n",
    "    \n",
    "    for index,event in enumerate(event_types):\n",
    "        features[index,name_ind]=feature_df[\"Total\"].loc[feature_df[\"Unnamed: 0\"]==event].iat[0]\n"
   ]
  },
  {
   "cell_type": "code",
   "execution_count": 23,
   "metadata": {},
   "outputs": [
    {
     "output_type": "stream",
     "name": "stdout",
     "text": [
      "[[0. 0. 2. 0. 0. 0. 0. 4. 0. 0.]\n [0. 0. 0. 1. 0. 6. 0. 6. 5. 7.]\n [0. 0. 3. 2. 0. 7. 0. 1. 0. 0.]]\n"
     ]
    }
   ],
   "source": [
    "print(features)"
   ]
  },
  {
   "cell_type": "code",
   "execution_count": 24,
   "metadata": {},
   "outputs": [
    {
     "output_type": "stream",
     "name": "stdout",
     "text": [
      "[1 1 1 0 0 0 1 1 1 1]\n"
     ]
    }
   ],
   "source": [
    "print(y)"
   ]
  },
  {
   "cell_type": "code",
   "execution_count": 44,
   "metadata": {},
   "outputs": [],
   "source": [
    "def compare_features(x,y,cv_inner,cv_outer,score_string,feature_string):\n",
    "    ''' Prints performance based on nested CV of SVC and Decision Tree Classifier for x and y.\n",
    "    '''\n",
    "\n",
    "    pipe_log=Pipeline([(\"scale\",StandardScaler()),(\"log\",LogisticRegression())])\n",
    "    param_grid_log={\"log__C\": [.1, 1, 10]}\n",
    "\n",
    "    search_log=GridSearchCV(estimator=pipe_log,param_grid=param_grid_log,scoring=score_string,cv=cv_inner,refit=True)\n",
    "    scores_log = cross_val_score(search_log, x, y, scoring=score_string, cv=cv_outer, n_jobs=-1)\n",
    "    \n",
    "    print(f\"Score {feature_string} for Logistic Regression\")\n",
    "    print(f\"Mean {scores_log.mean()} and STD {scores_log.std()}\")\n",
    "\n",
    "    pipe_svc=Pipeline([(\"scale\",StandardScaler()),(\"svm\",SVC(probability=True))])\n",
    "    param_grid_svc={\"svm__C\": [1, 10, 100], \"svm__gamma\": [.01, .1]}\n",
    "\n",
    "    search_svc=GridSearchCV(estimator=pipe_svc,scoring=score_string,param_grid=param_grid_svc,cv=cv_inner,refit=True)\n",
    "    scores_svc = cross_val_score(search_svc, x, y, scoring=score_string, cv=cv_outer, n_jobs=-1)\n",
    "\n",
    "    print(f\"Score {feature_string} for SVM\")\n",
    "    print(f\"Mean {scores_svc.mean()} and STD {scores_svc.std()}\")\n",
    "    \n",
    "    pipe_rf=Pipeline([(\"scale\",StandardScaler()),(\"rf\",RandomForestClassifier() )])\n",
    "    param_grid_rf={\"rf__n_estimators\": [10, 50, 100]}\n",
    "\n",
    "    search_rf=GridSearchCV(estimator=pipe_rf,scoring=score_string,param_grid=param_grid_rf,cv=cv_inner,refit=True)\n",
    "\n",
    "    scores_rf = cross_val_score(search_rf, x, y, scoring=score_string, cv=cv_outer, n_jobs=-1)\n",
    "\n",
    "    print(f\"Score {feature_string} for RF\")\n",
    "    print(f\"Mean {scores_rf.mean()} and STD {scores_rf.std()}\")"
   ]
  },
  {
   "cell_type": "code",
   "execution_count": 40,
   "metadata": {},
   "outputs": [],
   "source": [
    "cv_outer=StratifiedKFold(n_splits=2,shuffle=True,random_state=42)\n",
    "cv_inner=KFold(n_splits=2,shuffle=True,random_state=42)"
   ]
  },
  {
   "cell_type": "code",
   "execution_count": 51,
   "metadata": {},
   "outputs": [
    {
     "output_type": "stream",
     "name": "stdout",
     "text": [
      "Score All Events for Logistic Regression\n",
      "Mean 0.8194444444444444 and STD 0.06944444444444453\n",
      "Score All Events for SVM\n",
      "Mean 0.8194444444444444 and STD 0.06944444444444453\n",
      "Score All Events for RF\n",
      "Mean 0.5416666666666666 and STD 0.2083333333333333\n"
     ]
    }
   ],
   "source": [
    "compare_features(features.transpose(),y,cv_inner,cv_outer,\"f1\",\"All Events\")"
   ]
  },
  {
   "cell_type": "code",
   "execution_count": null,
   "metadata": {},
   "outputs": [],
   "source": []
  }
 ]
}